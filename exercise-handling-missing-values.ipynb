{
 "cells": [
  {
   "cell_type": "markdown",
   "id": "f365cfbd",
   "metadata": {
    "papermill": {
     "duration": 0.019513,
     "end_time": "2021-11-28T19:52:41.096999",
     "exception": false,
     "start_time": "2021-11-28T19:52:41.077486",
     "status": "completed"
    },
    "tags": []
   },
   "source": [
    "**This notebook is an exercise in the [Data Cleaning](https://www.kaggle.com/learn/data-cleaning) course.  You can reference the tutorial at [this link](https://www.kaggle.com/alexisbcook/handling-missing-values).**\n",
    "\n",
    "---\n"
   ]
  },
  {
   "cell_type": "markdown",
   "id": "be2d401f",
   "metadata": {
    "papermill": {
     "duration": 0.016947,
     "end_time": "2021-11-28T19:52:41.130987",
     "exception": false,
     "start_time": "2021-11-28T19:52:41.114040",
     "status": "completed"
    },
    "tags": []
   },
   "source": [
    "In this exercise, you'll apply what you learned in the **Handling missing values** tutorial.\n",
    "\n",
    "# Setup\n",
    "\n",
    "The questions below will give you feedback on your work. Run the following cell to set up the feedback system."
   ]
  },
  {
   "cell_type": "code",
   "execution_count": 1,
   "id": "5eb39213",
   "metadata": {
    "execution": {
     "iopub.execute_input": "2021-11-28T19:52:41.171301Z",
     "iopub.status.busy": "2021-11-28T19:52:41.166604Z",
     "iopub.status.idle": "2021-11-28T19:52:44.751727Z",
     "shell.execute_reply": "2021-11-28T19:52:44.750922Z",
     "shell.execute_reply.started": "2021-11-28T19:51:41.549312Z"
    },
    "papermill": {
     "duration": 3.605515,
     "end_time": "2021-11-28T19:52:44.751918",
     "exception": false,
     "start_time": "2021-11-28T19:52:41.146403",
     "status": "completed"
    },
    "tags": []
   },
   "outputs": [
    {
     "name": "stderr",
     "output_type": "stream",
     "text": [
      "/opt/conda/lib/python3.7/site-packages/ipykernel_launcher.py:3: DtypeWarning: Columns (22,32) have mixed types.Specify dtype option on import or set low_memory=False.\n",
      "  This is separate from the ipykernel package so we can avoid doing imports until\n"
     ]
    },
    {
     "name": "stdout",
     "output_type": "stream",
     "text": [
      "Setup Complete\n"
     ]
    }
   ],
   "source": [
    "from learntools.core import binder\n",
    "binder.bind(globals())\n",
    "from learntools.data_cleaning.ex1 import *\n",
    "print(\"Setup Complete\")"
   ]
  },
  {
   "cell_type": "markdown",
   "id": "ef9b8258",
   "metadata": {
    "papermill": {
     "duration": 0.015346,
     "end_time": "2021-11-28T19:52:44.783283",
     "exception": false,
     "start_time": "2021-11-28T19:52:44.767937",
     "status": "completed"
    },
    "tags": []
   },
   "source": [
    "# 1) Take a first look at the data\n",
    "\n",
    "Run the next code cell to load in the libraries and dataset you'll use to complete the exercise."
   ]
  },
  {
   "cell_type": "code",
   "execution_count": 2,
   "id": "75489557",
   "metadata": {
    "execution": {
     "iopub.execute_input": "2021-11-28T19:52:44.819933Z",
     "iopub.status.busy": "2021-11-28T19:52:44.819289Z",
     "iopub.status.idle": "2021-11-28T19:52:46.851243Z",
     "shell.execute_reply": "2021-11-28T19:52:46.851728Z",
     "shell.execute_reply.started": "2021-11-28T19:51:45.983154Z"
    },
    "papermill": {
     "duration": 2.053232,
     "end_time": "2021-11-28T19:52:46.851989",
     "exception": false,
     "start_time": "2021-11-28T19:52:44.798757",
     "status": "completed"
    },
    "tags": []
   },
   "outputs": [],
   "source": [
    "# modules we'll use\n",
    "import pandas as pd\n",
    "import numpy as np\n",
    "\n",
    "# read in all our data\n",
    "sf_permits = pd.read_csv(\"../input/building-permit-applications-data/Building_Permits.csv\",low_memory=False)\n",
    "\n",
    "# set seed for reproducibility\n",
    "np.random.seed(0) "
   ]
  },
  {
   "cell_type": "markdown",
   "id": "cd51ef53",
   "metadata": {
    "papermill": {
     "duration": 0.015297,
     "end_time": "2021-11-28T19:52:46.883696",
     "exception": false,
     "start_time": "2021-11-28T19:52:46.868399",
     "status": "completed"
    },
    "tags": []
   },
   "source": [
    "Use the code cell below to print the first five rows of the `sf_permits` DataFrame."
   ]
  },
  {
   "cell_type": "code",
   "execution_count": 3,
   "id": "e5d9112e",
   "metadata": {
    "execution": {
     "iopub.execute_input": "2021-11-28T19:52:46.916872Z",
     "iopub.status.busy": "2021-11-28T19:52:46.916295Z",
     "iopub.status.idle": "2021-11-28T19:52:46.947078Z",
     "shell.execute_reply": "2021-11-28T19:52:46.947564Z",
     "shell.execute_reply.started": "2021-11-28T19:51:48.220189Z"
    },
    "papermill": {
     "duration": 0.048921,
     "end_time": "2021-11-28T19:52:46.947739",
     "exception": false,
     "start_time": "2021-11-28T19:52:46.898818",
     "status": "completed"
    },
    "tags": []
   },
   "outputs": [
    {
     "data": {
      "text/html": [
       "<div>\n",
       "<style scoped>\n",
       "    .dataframe tbody tr th:only-of-type {\n",
       "        vertical-align: middle;\n",
       "    }\n",
       "\n",
       "    .dataframe tbody tr th {\n",
       "        vertical-align: top;\n",
       "    }\n",
       "\n",
       "    .dataframe thead th {\n",
       "        text-align: right;\n",
       "    }\n",
       "</style>\n",
       "<table border=\"1\" class=\"dataframe\">\n",
       "  <thead>\n",
       "    <tr style=\"text-align: right;\">\n",
       "      <th></th>\n",
       "      <th>Permit Number</th>\n",
       "      <th>Permit Type</th>\n",
       "      <th>Permit Type Definition</th>\n",
       "      <th>Permit Creation Date</th>\n",
       "      <th>Block</th>\n",
       "      <th>Lot</th>\n",
       "      <th>Street Number</th>\n",
       "      <th>Street Number Suffix</th>\n",
       "      <th>Street Name</th>\n",
       "      <th>Street Suffix</th>\n",
       "      <th>...</th>\n",
       "      <th>Existing Construction Type</th>\n",
       "      <th>Existing Construction Type Description</th>\n",
       "      <th>Proposed Construction Type</th>\n",
       "      <th>Proposed Construction Type Description</th>\n",
       "      <th>Site Permit</th>\n",
       "      <th>Supervisor District</th>\n",
       "      <th>Neighborhoods - Analysis Boundaries</th>\n",
       "      <th>Zipcode</th>\n",
       "      <th>Location</th>\n",
       "      <th>Record ID</th>\n",
       "    </tr>\n",
       "  </thead>\n",
       "  <tbody>\n",
       "    <tr>\n",
       "      <th>0</th>\n",
       "      <td>201505065519</td>\n",
       "      <td>4</td>\n",
       "      <td>sign - erect</td>\n",
       "      <td>05/06/2015</td>\n",
       "      <td>0326</td>\n",
       "      <td>023</td>\n",
       "      <td>140</td>\n",
       "      <td>NaN</td>\n",
       "      <td>Ellis</td>\n",
       "      <td>St</td>\n",
       "      <td>...</td>\n",
       "      <td>3.0</td>\n",
       "      <td>constr type 3</td>\n",
       "      <td>NaN</td>\n",
       "      <td>NaN</td>\n",
       "      <td>NaN</td>\n",
       "      <td>3.0</td>\n",
       "      <td>Tenderloin</td>\n",
       "      <td>94102.0</td>\n",
       "      <td>(37.785719256680785, -122.40852313194863)</td>\n",
       "      <td>1380611233945</td>\n",
       "    </tr>\n",
       "    <tr>\n",
       "      <th>1</th>\n",
       "      <td>201604195146</td>\n",
       "      <td>4</td>\n",
       "      <td>sign - erect</td>\n",
       "      <td>04/19/2016</td>\n",
       "      <td>0306</td>\n",
       "      <td>007</td>\n",
       "      <td>440</td>\n",
       "      <td>NaN</td>\n",
       "      <td>Geary</td>\n",
       "      <td>St</td>\n",
       "      <td>...</td>\n",
       "      <td>3.0</td>\n",
       "      <td>constr type 3</td>\n",
       "      <td>NaN</td>\n",
       "      <td>NaN</td>\n",
       "      <td>NaN</td>\n",
       "      <td>3.0</td>\n",
       "      <td>Tenderloin</td>\n",
       "      <td>94102.0</td>\n",
       "      <td>(37.78733980600732, -122.41063199757738)</td>\n",
       "      <td>1420164406718</td>\n",
       "    </tr>\n",
       "    <tr>\n",
       "      <th>2</th>\n",
       "      <td>201605278609</td>\n",
       "      <td>3</td>\n",
       "      <td>additions alterations or repairs</td>\n",
       "      <td>05/27/2016</td>\n",
       "      <td>0595</td>\n",
       "      <td>203</td>\n",
       "      <td>1647</td>\n",
       "      <td>NaN</td>\n",
       "      <td>Pacific</td>\n",
       "      <td>Av</td>\n",
       "      <td>...</td>\n",
       "      <td>1.0</td>\n",
       "      <td>constr type 1</td>\n",
       "      <td>1.0</td>\n",
       "      <td>constr type 1</td>\n",
       "      <td>NaN</td>\n",
       "      <td>3.0</td>\n",
       "      <td>Russian Hill</td>\n",
       "      <td>94109.0</td>\n",
       "      <td>(37.7946573324287, -122.42232562979227)</td>\n",
       "      <td>1424856504716</td>\n",
       "    </tr>\n",
       "    <tr>\n",
       "      <th>3</th>\n",
       "      <td>201611072166</td>\n",
       "      <td>8</td>\n",
       "      <td>otc alterations permit</td>\n",
       "      <td>11/07/2016</td>\n",
       "      <td>0156</td>\n",
       "      <td>011</td>\n",
       "      <td>1230</td>\n",
       "      <td>NaN</td>\n",
       "      <td>Pacific</td>\n",
       "      <td>Av</td>\n",
       "      <td>...</td>\n",
       "      <td>5.0</td>\n",
       "      <td>wood frame (5)</td>\n",
       "      <td>5.0</td>\n",
       "      <td>wood frame (5)</td>\n",
       "      <td>NaN</td>\n",
       "      <td>3.0</td>\n",
       "      <td>Nob Hill</td>\n",
       "      <td>94109.0</td>\n",
       "      <td>(37.79595867909168, -122.41557405519474)</td>\n",
       "      <td>1443574295566</td>\n",
       "    </tr>\n",
       "    <tr>\n",
       "      <th>4</th>\n",
       "      <td>201611283529</td>\n",
       "      <td>6</td>\n",
       "      <td>demolitions</td>\n",
       "      <td>11/28/2016</td>\n",
       "      <td>0342</td>\n",
       "      <td>001</td>\n",
       "      <td>950</td>\n",
       "      <td>NaN</td>\n",
       "      <td>Market</td>\n",
       "      <td>St</td>\n",
       "      <td>...</td>\n",
       "      <td>3.0</td>\n",
       "      <td>constr type 3</td>\n",
       "      <td>NaN</td>\n",
       "      <td>NaN</td>\n",
       "      <td>NaN</td>\n",
       "      <td>6.0</td>\n",
       "      <td>Tenderloin</td>\n",
       "      <td>94102.0</td>\n",
       "      <td>(37.78315261897309, -122.40950883997789)</td>\n",
       "      <td>144548169992</td>\n",
       "    </tr>\n",
       "  </tbody>\n",
       "</table>\n",
       "<p>5 rows × 43 columns</p>\n",
       "</div>"
      ],
      "text/plain": [
       "  Permit Number  Permit Type            Permit Type Definition  \\\n",
       "0  201505065519            4                      sign - erect   \n",
       "1  201604195146            4                      sign - erect   \n",
       "2  201605278609            3  additions alterations or repairs   \n",
       "3  201611072166            8            otc alterations permit   \n",
       "4  201611283529            6                       demolitions   \n",
       "\n",
       "  Permit Creation Date Block  Lot  Street Number Street Number Suffix  \\\n",
       "0           05/06/2015  0326  023            140                  NaN   \n",
       "1           04/19/2016  0306  007            440                  NaN   \n",
       "2           05/27/2016  0595  203           1647                  NaN   \n",
       "3           11/07/2016  0156  011           1230                  NaN   \n",
       "4           11/28/2016  0342  001            950                  NaN   \n",
       "\n",
       "  Street Name Street Suffix  ...  Existing Construction Type  \\\n",
       "0       Ellis            St  ...                         3.0   \n",
       "1       Geary            St  ...                         3.0   \n",
       "2     Pacific            Av  ...                         1.0   \n",
       "3     Pacific            Av  ...                         5.0   \n",
       "4      Market            St  ...                         3.0   \n",
       "\n",
       "  Existing Construction Type Description Proposed Construction Type  \\\n",
       "0                          constr type 3                        NaN   \n",
       "1                          constr type 3                        NaN   \n",
       "2                          constr type 1                        1.0   \n",
       "3                         wood frame (5)                        5.0   \n",
       "4                          constr type 3                        NaN   \n",
       "\n",
       "  Proposed Construction Type Description Site Permit Supervisor District  \\\n",
       "0                                    NaN         NaN                 3.0   \n",
       "1                                    NaN         NaN                 3.0   \n",
       "2                          constr type 1         NaN                 3.0   \n",
       "3                         wood frame (5)         NaN                 3.0   \n",
       "4                                    NaN         NaN                 6.0   \n",
       "\n",
       "  Neighborhoods - Analysis Boundaries  Zipcode  \\\n",
       "0                          Tenderloin  94102.0   \n",
       "1                          Tenderloin  94102.0   \n",
       "2                        Russian Hill  94109.0   \n",
       "3                            Nob Hill  94109.0   \n",
       "4                          Tenderloin  94102.0   \n",
       "\n",
       "                                    Location      Record ID  \n",
       "0  (37.785719256680785, -122.40852313194863)  1380611233945  \n",
       "1   (37.78733980600732, -122.41063199757738)  1420164406718  \n",
       "2    (37.7946573324287, -122.42232562979227)  1424856504716  \n",
       "3   (37.79595867909168, -122.41557405519474)  1443574295566  \n",
       "4   (37.78315261897309, -122.40950883997789)   144548169992  \n",
       "\n",
       "[5 rows x 43 columns]"
      ]
     },
     "execution_count": 3,
     "metadata": {},
     "output_type": "execute_result"
    }
   ],
   "source": [
    "sf_permits.head()"
   ]
  },
  {
   "cell_type": "markdown",
   "id": "e6ccd031",
   "metadata": {
    "papermill": {
     "duration": 0.015513,
     "end_time": "2021-11-28T19:52:46.979755",
     "exception": false,
     "start_time": "2021-11-28T19:52:46.964242",
     "status": "completed"
    },
    "tags": []
   },
   "source": [
    "Does the dataset have any missing values?  Once you have an answer, run the code cell below to get credit for your work."
   ]
  },
  {
   "cell_type": "code",
   "execution_count": 4,
   "id": "237ef520",
   "metadata": {
    "execution": {
     "iopub.execute_input": "2021-11-28T19:52:47.016083Z",
     "iopub.status.busy": "2021-11-28T19:52:47.015426Z",
     "iopub.status.idle": "2021-11-28T19:52:47.019479Z",
     "shell.execute_reply": "2021-11-28T19:52:47.019952Z",
     "shell.execute_reply.started": "2021-11-28T19:51:48.264963Z"
    },
    "papermill": {
     "duration": 0.024692,
     "end_time": "2021-11-28T19:52:47.020112",
     "exception": false,
     "start_time": "2021-11-28T19:52:46.995420",
     "status": "completed"
    },
    "tags": []
   },
   "outputs": [
    {
     "data": {
      "application/javascript": [
       "parent.postMessage({\"jupyterEvent\": \"custom.exercise_interaction\", \"data\": {\"outcomeType\": 1, \"valueTowardsCompletion\": 0.16666666666666666, \"interactionType\": 1, \"questionType\": 4, \"questionId\": \"1_TakeFirstLook\", \"learnToolsVersion\": \"0.3.4\", \"failureMessage\": \"\", \"exceptionClass\": \"\", \"trace\": \"\"}}, \"*\")"
      ],
      "text/plain": [
       "<IPython.core.display.Javascript object>"
      ]
     },
     "metadata": {},
     "output_type": "display_data"
    },
    {
     "data": {
      "text/markdown": [
       "<span style=\"color:#33cc33\">Correct:</span> \n",
       "\n",
       "The first five rows of the data does show that several columns have missing values.  You can see this in the \"Street Number Suffix\", \"Proposed Construction Type\" and \"Site Permit\" columns, among others."
      ],
      "text/plain": [
       "Correct: \n",
       "\n",
       "The first five rows of the data does show that several columns have missing values.  You can see this in the \"Street Number Suffix\", \"Proposed Construction Type\" and \"Site Permit\" columns, among others."
      ]
     },
     "metadata": {},
     "output_type": "display_data"
    }
   ],
   "source": [
    "# Check your answer (Run this code cell to receive credit!)\n",
    "q1.check()"
   ]
  },
  {
   "cell_type": "code",
   "execution_count": 5,
   "id": "725ef648",
   "metadata": {
    "execution": {
     "iopub.execute_input": "2021-11-28T19:52:47.056117Z",
     "iopub.status.busy": "2021-11-28T19:52:47.055536Z",
     "iopub.status.idle": "2021-11-28T19:52:47.058232Z",
     "shell.execute_reply": "2021-11-28T19:52:47.058694Z",
     "shell.execute_reply.started": "2021-11-28T19:51:48.274993Z"
    },
    "papermill": {
     "duration": 0.02204,
     "end_time": "2021-11-28T19:52:47.058845",
     "exception": false,
     "start_time": "2021-11-28T19:52:47.036805",
     "status": "completed"
    },
    "tags": []
   },
   "outputs": [],
   "source": [
    "# Line below will give you a hint\n",
    "#q1.hint()"
   ]
  },
  {
   "cell_type": "markdown",
   "id": "07364427",
   "metadata": {
    "papermill": {
     "duration": 0.015981,
     "end_time": "2021-11-28T19:52:47.091044",
     "exception": false,
     "start_time": "2021-11-28T19:52:47.075063",
     "status": "completed"
    },
    "tags": []
   },
   "source": [
    "# 2) How many missing data points do we have?\n",
    "\n",
    "What percentage of the values in the dataset are missing?  Your answer should be a number between 0 and 100.  (If 1/4 of the values in the dataset are missing, the answer is 25.)"
   ]
  },
  {
   "cell_type": "code",
   "execution_count": 6,
   "id": "fe4ccf45",
   "metadata": {
    "execution": {
     "iopub.execute_input": "2021-11-28T19:52:47.126682Z",
     "iopub.status.busy": "2021-11-28T19:52:47.126096Z",
     "iopub.status.idle": "2021-11-28T19:52:47.378553Z",
     "shell.execute_reply": "2021-11-28T19:52:47.379041Z",
     "shell.execute_reply.started": "2021-11-28T19:51:48.283086Z"
    },
    "papermill": {
     "duration": 0.271981,
     "end_time": "2021-11-28T19:52:47.379242",
     "exception": false,
     "start_time": "2021-11-28T19:52:47.107261",
     "status": "completed"
    },
    "tags": []
   },
   "outputs": [
    {
     "data": {
      "application/javascript": [
       "parent.postMessage({\"jupyterEvent\": \"custom.exercise_interaction\", \"data\": {\"outcomeType\": 1, \"valueTowardsCompletion\": 0.16666666666666666, \"interactionType\": 1, \"questionType\": 1, \"questionId\": \"2_PercentMissingValues\", \"learnToolsVersion\": \"0.3.4\", \"failureMessage\": \"\", \"exceptionClass\": \"\", \"trace\": \"\"}}, \"*\")"
      ],
      "text/plain": [
       "<IPython.core.display.Javascript object>"
      ]
     },
     "metadata": {},
     "output_type": "display_data"
    },
    {
     "data": {
      "text/markdown": [
       "<span style=\"color:#33cc33\">Correct</span>"
      ],
      "text/plain": [
       "Correct"
      ]
     },
     "metadata": {},
     "output_type": "display_data"
    }
   ],
   "source": [
    "# TODO: Your code here!\n",
    "percent_missing = (sf_permits.isnull().sum().sum()/np.product(sf_permits.shape))*100\n",
    "\n",
    "# Check your answer\n",
    "q2.check()"
   ]
  },
  {
   "cell_type": "code",
   "execution_count": 7,
   "id": "4c630813",
   "metadata": {
    "execution": {
     "iopub.execute_input": "2021-11-28T19:52:47.417734Z",
     "iopub.status.busy": "2021-11-28T19:52:47.417173Z",
     "iopub.status.idle": "2021-11-28T19:52:47.419579Z",
     "shell.execute_reply": "2021-11-28T19:52:47.420041Z",
     "shell.execute_reply.started": "2021-11-28T19:51:48.728572Z"
    },
    "papermill": {
     "duration": 0.02317,
     "end_time": "2021-11-28T19:52:47.420199",
     "exception": false,
     "start_time": "2021-11-28T19:52:47.397029",
     "status": "completed"
    },
    "tags": []
   },
   "outputs": [],
   "source": [
    "# Lines below will give you a hint or solution code\n",
    "#q2.hint()\n",
    "#q2.solution()"
   ]
  },
  {
   "cell_type": "markdown",
   "id": "775ad109",
   "metadata": {
    "papermill": {
     "duration": 0.016879,
     "end_time": "2021-11-28T19:52:47.454695",
     "exception": false,
     "start_time": "2021-11-28T19:52:47.437816",
     "status": "completed"
    },
    "tags": []
   },
   "source": [
    "# 3) Figure out why the data is missing\n",
    "\n",
    "Look at the columns **\"Street Number Suffix\"** and **\"Zipcode\"** from the [San Francisco Building Permits dataset](https://www.kaggle.com/aparnashastry/building-permit-applications-data). Both of these contain missing values. \n",
    "- Which, if either, are missing because they don't exist? \n",
    "- Which, if either, are missing because they weren't recorded?  \n",
    "\n",
    "Once you have an answer, run the code cell below."
   ]
  },
  {
   "cell_type": "code",
   "execution_count": 8,
   "id": "87371db4",
   "metadata": {
    "execution": {
     "iopub.execute_input": "2021-11-28T19:52:47.492923Z",
     "iopub.status.busy": "2021-11-28T19:52:47.492016Z",
     "iopub.status.idle": "2021-11-28T19:52:47.499259Z",
     "shell.execute_reply": "2021-11-28T19:52:47.499742Z",
     "shell.execute_reply.started": "2021-11-28T19:51:48.733048Z"
    },
    "papermill": {
     "duration": 0.028181,
     "end_time": "2021-11-28T19:52:47.499943",
     "exception": false,
     "start_time": "2021-11-28T19:52:47.471762",
     "status": "completed"
    },
    "tags": []
   },
   "outputs": [
    {
     "data": {
      "application/javascript": [
       "parent.postMessage({\"jupyterEvent\": \"custom.exercise_interaction\", \"data\": {\"outcomeType\": 1, \"valueTowardsCompletion\": 0.16666666666666666, \"interactionType\": 1, \"questionType\": 4, \"questionId\": \"3_WhyDataMissing\", \"learnToolsVersion\": \"0.3.4\", \"failureMessage\": \"\", \"exceptionClass\": \"\", \"trace\": \"\"}}, \"*\")"
      ],
      "text/plain": [
       "<IPython.core.display.Javascript object>"
      ]
     },
     "metadata": {},
     "output_type": "display_data"
    },
    {
     "data": {
      "text/markdown": [
       "<span style=\"color:#33cc33\">Correct:</span> \n",
       "\n",
       "If a value in the \"Street Number Suffix\" column is missing, it is likely because it does not exist. If a value in the \"Zipcode\" column is missing, it was not recorded."
      ],
      "text/plain": [
       "Correct: \n",
       "\n",
       "If a value in the \"Street Number Suffix\" column is missing, it is likely because it does not exist. If a value in the \"Zipcode\" column is missing, it was not recorded."
      ]
     },
     "metadata": {},
     "output_type": "display_data"
    }
   ],
   "source": [
    "# Check your answer (Run this code cell to receive credit!)\n",
    "q3.check()"
   ]
  },
  {
   "cell_type": "code",
   "execution_count": 9,
   "id": "409e3a15",
   "metadata": {
    "execution": {
     "iopub.execute_input": "2021-11-28T19:52:47.539869Z",
     "iopub.status.busy": "2021-11-28T19:52:47.539103Z",
     "iopub.status.idle": "2021-11-28T19:52:47.542676Z",
     "shell.execute_reply": "2021-11-28T19:52:47.542242Z",
     "shell.execute_reply.started": "2021-11-28T19:51:48.748387Z"
    },
    "papermill": {
     "duration": 0.024592,
     "end_time": "2021-11-28T19:52:47.542807",
     "exception": false,
     "start_time": "2021-11-28T19:52:47.518215",
     "status": "completed"
    },
    "tags": []
   },
   "outputs": [],
   "source": [
    "# Line below will give you a hint\n",
    "#q3.hint()"
   ]
  },
  {
   "cell_type": "markdown",
   "id": "21a6d65c",
   "metadata": {
    "papermill": {
     "duration": 0.017508,
     "end_time": "2021-11-28T19:52:47.578169",
     "exception": false,
     "start_time": "2021-11-28T19:52:47.560661",
     "status": "completed"
    },
    "tags": []
   },
   "source": [
    "# 4) Drop missing values: rows\n",
    "\n",
    "If you removed all of the rows of `sf_permits` with missing values, how many rows are left?\n",
    "\n",
    "**Note**: Do not change the value of `sf_permits` when checking this.  "
   ]
  },
  {
   "cell_type": "code",
   "execution_count": 10,
   "id": "02b46a37",
   "metadata": {
    "execution": {
     "iopub.execute_input": "2021-11-28T19:52:47.619180Z",
     "iopub.status.busy": "2021-11-28T19:52:47.618179Z",
     "iopub.status.idle": "2021-11-28T19:52:47.873275Z",
     "shell.execute_reply": "2021-11-28T19:52:47.872750Z",
     "shell.execute_reply.started": "2021-11-28T19:51:48.756018Z"
    },
    "papermill": {
     "duration": 0.277457,
     "end_time": "2021-11-28T19:52:47.873411",
     "exception": false,
     "start_time": "2021-11-28T19:52:47.595954",
     "status": "completed"
    },
    "tags": []
   },
   "outputs": [
    {
     "data": {
      "text/plain": [
       "0"
      ]
     },
     "execution_count": 10,
     "metadata": {},
     "output_type": "execute_result"
    }
   ],
   "source": [
    "# TODO: Your code here!\n",
    "len(sf_permits.dropna())"
   ]
  },
  {
   "cell_type": "markdown",
   "id": "cd6e32b3",
   "metadata": {
    "papermill": {
     "duration": 0.017832,
     "end_time": "2021-11-28T19:52:47.909417",
     "exception": false,
     "start_time": "2021-11-28T19:52:47.891585",
     "status": "completed"
    },
    "tags": []
   },
   "source": [
    "Once you have an answer, run the code cell below."
   ]
  },
  {
   "cell_type": "code",
   "execution_count": 11,
   "id": "63e2302b",
   "metadata": {
    "execution": {
     "iopub.execute_input": "2021-11-28T19:52:47.951473Z",
     "iopub.status.busy": "2021-11-28T19:52:47.950534Z",
     "iopub.status.idle": "2021-11-28T19:52:47.956524Z",
     "shell.execute_reply": "2021-11-28T19:52:47.955974Z",
     "shell.execute_reply.started": "2021-11-28T19:51:49.202669Z"
    },
    "papermill": {
     "duration": 0.029106,
     "end_time": "2021-11-28T19:52:47.956649",
     "exception": false,
     "start_time": "2021-11-28T19:52:47.927543",
     "status": "completed"
    },
    "tags": []
   },
   "outputs": [
    {
     "data": {
      "application/javascript": [
       "parent.postMessage({\"jupyterEvent\": \"custom.exercise_interaction\", \"data\": {\"outcomeType\": 1, \"valueTowardsCompletion\": 0.16666666666666666, \"interactionType\": 1, \"questionType\": 4, \"questionId\": \"4_DropMissingRows\", \"learnToolsVersion\": \"0.3.4\", \"failureMessage\": \"\", \"exceptionClass\": \"\", \"trace\": \"\"}}, \"*\")"
      ],
      "text/plain": [
       "<IPython.core.display.Javascript object>"
      ]
     },
     "metadata": {},
     "output_type": "display_data"
    },
    {
     "data": {
      "text/markdown": [
       "<span style=\"color:#33cc33\">Correct:</span> \n",
       "\n",
       "There are no rows remaining in the dataset!"
      ],
      "text/plain": [
       "Correct: \n",
       "\n",
       "There are no rows remaining in the dataset!"
      ]
     },
     "metadata": {},
     "output_type": "display_data"
    }
   ],
   "source": [
    "# Check your answer (Run this code cell to receive credit!)\n",
    "q4.check()"
   ]
  },
  {
   "cell_type": "code",
   "execution_count": 12,
   "id": "93a55904",
   "metadata": {
    "execution": {
     "iopub.execute_input": "2021-11-28T19:52:47.998362Z",
     "iopub.status.busy": "2021-11-28T19:52:47.997758Z",
     "iopub.status.idle": "2021-11-28T19:52:47.999992Z",
     "shell.execute_reply": "2021-11-28T19:52:47.999452Z",
     "shell.execute_reply.started": "2021-11-28T19:51:49.213900Z"
    },
    "papermill": {
     "duration": 0.024499,
     "end_time": "2021-11-28T19:52:48.000120",
     "exception": false,
     "start_time": "2021-11-28T19:52:47.975621",
     "status": "completed"
    },
    "tags": []
   },
   "outputs": [],
   "source": [
    "# Line below will give you a hint\n",
    "#q4.hint()"
   ]
  },
  {
   "cell_type": "markdown",
   "id": "5cb03911",
   "metadata": {
    "papermill": {
     "duration": 0.018544,
     "end_time": "2021-11-28T19:52:48.037829",
     "exception": false,
     "start_time": "2021-11-28T19:52:48.019285",
     "status": "completed"
    },
    "tags": []
   },
   "source": [
    "# 5) Drop missing values: columns\n",
    "\n",
    "Now try removing all the columns with empty values.  \n",
    "- Create a new DataFrame called `sf_permits_with_na_dropped` that has all of the columns with empty values removed.  \n",
    "- How many columns were removed from the original `sf_permits` DataFrame? Use this number to set the value of the `dropped_columns` variable below."
   ]
  },
  {
   "cell_type": "code",
   "execution_count": 13,
   "id": "6f11e73f",
   "metadata": {
    "execution": {
     "iopub.execute_input": "2021-11-28T19:52:48.079088Z",
     "iopub.status.busy": "2021-11-28T19:52:48.078415Z",
     "iopub.status.idle": "2021-11-28T19:52:48.345042Z",
     "shell.execute_reply": "2021-11-28T19:52:48.344525Z",
     "shell.execute_reply.started": "2021-11-28T19:51:49.221978Z"
    },
    "papermill": {
     "duration": 0.288194,
     "end_time": "2021-11-28T19:52:48.345176",
     "exception": false,
     "start_time": "2021-11-28T19:52:48.056982",
     "status": "completed"
    },
    "tags": []
   },
   "outputs": [
    {
     "data": {
      "application/javascript": [
       "parent.postMessage({\"jupyterEvent\": \"custom.exercise_interaction\", \"data\": {\"outcomeType\": 1, \"valueTowardsCompletion\": 0.16666666666666666, \"interactionType\": 1, \"questionType\": 1, \"questionId\": \"5_DropMissingCols\", \"learnToolsVersion\": \"0.3.4\", \"failureMessage\": \"\", \"exceptionClass\": \"\", \"trace\": \"\"}}, \"*\")"
      ],
      "text/plain": [
       "<IPython.core.display.Javascript object>"
      ]
     },
     "metadata": {},
     "output_type": "display_data"
    },
    {
     "data": {
      "text/markdown": [
       "<span style=\"color:#33cc33\">Correct</span>"
      ],
      "text/plain": [
       "Correct"
      ]
     },
     "metadata": {},
     "output_type": "display_data"
    }
   ],
   "source": [
    "# TODO: Your code here\n",
    "sf_permits_with_na_dropped = sf_permits.dropna(axis=1)\n",
    "\n",
    "\n",
    "dropped_columns = sf_permits.shape[1] - sf_permits_with_na_dropped.shape[1]\n",
    "\n",
    "# Check your answer\n",
    "q5.check()"
   ]
  },
  {
   "cell_type": "code",
   "execution_count": 14,
   "id": "68f4389c",
   "metadata": {
    "execution": {
     "iopub.execute_input": "2021-11-28T19:52:48.387737Z",
     "iopub.status.busy": "2021-11-28T19:52:48.387154Z",
     "iopub.status.idle": "2021-11-28T19:52:48.390026Z",
     "shell.execute_reply": "2021-11-28T19:52:48.390474Z",
     "shell.execute_reply.started": "2021-11-28T19:51:49.679186Z"
    },
    "papermill": {
     "duration": 0.02559,
     "end_time": "2021-11-28T19:52:48.390623",
     "exception": false,
     "start_time": "2021-11-28T19:52:48.365033",
     "status": "completed"
    },
    "tags": []
   },
   "outputs": [],
   "source": [
    "# Lines below will give you a hint or solution code\n",
    "#q5.hint()\n",
    "#q5.solution()"
   ]
  },
  {
   "cell_type": "markdown",
   "id": "ea1ffe3d",
   "metadata": {
    "papermill": {
     "duration": 0.01915,
     "end_time": "2021-11-28T19:52:48.429332",
     "exception": false,
     "start_time": "2021-11-28T19:52:48.410182",
     "status": "completed"
    },
    "tags": []
   },
   "source": [
    "# 6) Fill in missing values automatically\n",
    "\n",
    "Try replacing all the NaN's in the `sf_permits` data with the one that comes directly after it and then replacing any remaining NaN's with 0.  Set the result to a new DataFrame `sf_permits_with_na_imputed`."
   ]
  },
  {
   "cell_type": "code",
   "execution_count": 15,
   "id": "a99d032e",
   "metadata": {
    "execution": {
     "iopub.execute_input": "2021-11-28T19:52:48.471901Z",
     "iopub.status.busy": "2021-11-28T19:52:48.471264Z",
     "iopub.status.idle": "2021-11-28T19:52:49.866750Z",
     "shell.execute_reply": "2021-11-28T19:52:49.866194Z",
     "shell.execute_reply.started": "2021-11-28T19:51:49.684304Z"
    },
    "papermill": {
     "duration": 1.418046,
     "end_time": "2021-11-28T19:52:49.866911",
     "exception": false,
     "start_time": "2021-11-28T19:52:48.448865",
     "status": "completed"
    },
    "tags": []
   },
   "outputs": [
    {
     "data": {
      "application/javascript": [
       "parent.postMessage({\"jupyterEvent\": \"custom.exercise_interaction\", \"data\": {\"outcomeType\": 1, \"valueTowardsCompletion\": 0.16666666666666666, \"interactionType\": 1, \"questionType\": 1, \"questionId\": \"6_ImputeAutomatically\", \"learnToolsVersion\": \"0.3.4\", \"failureMessage\": \"\", \"exceptionClass\": \"\", \"trace\": \"\"}}, \"*\")"
      ],
      "text/plain": [
       "<IPython.core.display.Javascript object>"
      ]
     },
     "metadata": {},
     "output_type": "display_data"
    },
    {
     "data": {
      "text/markdown": [
       "<span style=\"color:#33cc33\">Correct</span>"
      ],
      "text/plain": [
       "Correct"
      ]
     },
     "metadata": {},
     "output_type": "display_data"
    }
   ],
   "source": [
    "# TODO: Your code here\n",
    "sf_permits_with_na_imputed = sf_permits.fillna(method='bfill', axis=0).fillna(0)\n",
    "sf_permits_with_na_imputed = sf_permits_with_na_imputed.fillna(0)\n",
    "\n",
    "# Check your answer\n",
    "q6.check()"
   ]
  },
  {
   "cell_type": "code",
   "execution_count": 16,
   "id": "75048b63",
   "metadata": {
    "execution": {
     "iopub.execute_input": "2021-11-28T19:52:49.913180Z",
     "iopub.status.busy": "2021-11-28T19:52:49.912248Z",
     "iopub.status.idle": "2021-11-28T19:52:49.914929Z",
     "shell.execute_reply": "2021-11-28T19:52:49.914453Z",
     "shell.execute_reply.started": "2021-11-28T19:51:51.727700Z"
    },
    "papermill": {
     "duration": 0.026845,
     "end_time": "2021-11-28T19:52:49.915058",
     "exception": false,
     "start_time": "2021-11-28T19:52:49.888213",
     "status": "completed"
    },
    "tags": []
   },
   "outputs": [],
   "source": [
    "# Lines below will give you a hint or solution code\n",
    "#q6.hint()\n",
    "#q6.solution()"
   ]
  },
  {
   "cell_type": "markdown",
   "id": "3252cf8a",
   "metadata": {
    "papermill": {
     "duration": 0.020176,
     "end_time": "2021-11-28T19:52:49.955587",
     "exception": false,
     "start_time": "2021-11-28T19:52:49.935411",
     "status": "completed"
    },
    "tags": []
   },
   "source": [
    "# More practice\n",
    "\n",
    "If you're looking for more practice handling missing values:\n",
    "\n",
    "* Check out [this noteboook](https://www.kaggle.com/alexisbcook/missing-values) on handling missing values using scikit-learn's imputer. \n",
    "* Look back at the \"Zipcode\" column in the `sf_permits` dataset, which has some missing values. How would you go about figuring out what the actual zipcode of each address should be? (You might try using another dataset. You can search for datasets about San Fransisco on the [Datasets listing](https://www.kaggle.com/datasets).) \n",
    "\n",
    "# Keep going\n",
    "\n",
    "In the next lesson, learn how to [**apply scaling and normalization**](https://www.kaggle.com/alexisbcook/scaling-and-normalization) to transform your data."
   ]
  },
  {
   "cell_type": "markdown",
   "id": "53466034",
   "metadata": {
    "papermill": {
     "duration": 0.020757,
     "end_time": "2021-11-28T19:52:49.997028",
     "exception": false,
     "start_time": "2021-11-28T19:52:49.976271",
     "status": "completed"
    },
    "tags": []
   },
   "source": [
    "---\n",
    "\n",
    "\n",
    "\n",
    "\n",
    "*Have questions or comments? Visit the [course discussion forum](https://www.kaggle.com/learn/data-cleaning/discussion) to chat with other learners.*"
   ]
  }
 ],
 "metadata": {
  "kernelspec": {
   "display_name": "Python 3",
   "language": "python",
   "name": "python3"
  },
  "language_info": {
   "codemirror_mode": {
    "name": "ipython",
    "version": 3
   },
   "file_extension": ".py",
   "mimetype": "text/x-python",
   "name": "python",
   "nbconvert_exporter": "python",
   "pygments_lexer": "ipython3",
   "version": "3.7.10"
  },
  "papermill": {
   "default_parameters": {},
   "duration": 17.633328,
   "end_time": "2021-11-28T19:52:50.626792",
   "environment_variables": {},
   "exception": null,
   "input_path": "__notebook__.ipynb",
   "output_path": "__notebook__.ipynb",
   "parameters": {},
   "start_time": "2021-11-28T19:52:32.993464",
   "version": "2.3.3"
  }
 },
 "nbformat": 4,
 "nbformat_minor": 5
}
