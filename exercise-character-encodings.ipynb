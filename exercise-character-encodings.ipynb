{
 "cells": [
  {
   "cell_type": "markdown",
   "id": "a2560a9e",
   "metadata": {
    "papermill": {
     "duration": 0.015083,
     "end_time": "2021-11-28T21:48:15.872357",
     "exception": false,
     "start_time": "2021-11-28T21:48:15.857274",
     "status": "completed"
    },
    "tags": []
   },
   "source": [
    "**This notebook is an exercise in the [Data Cleaning](https://www.kaggle.com/learn/data-cleaning) course.  You can reference the tutorial at [this link](https://www.kaggle.com/alexisbcook/character-encodings).**\n",
    "\n",
    "---\n"
   ]
  },
  {
   "cell_type": "markdown",
   "id": "7a6d87b9",
   "metadata": {
    "papermill": {
     "duration": 0.013756,
     "end_time": "2021-11-28T21:48:15.902089",
     "exception": false,
     "start_time": "2021-11-28T21:48:15.888333",
     "status": "completed"
    },
    "tags": []
   },
   "source": [
    "In this exercise, you'll apply what you learned in the **Character encodings** tutorial.\n",
    "\n",
    "# Setup\n",
    "\n",
    "The questions below will give you feedback on your work. Run the following cell to set up the feedback system."
   ]
  },
  {
   "cell_type": "code",
   "execution_count": 1,
   "id": "f746248c",
   "metadata": {
    "execution": {
     "iopub.execute_input": "2021-11-28T21:48:15.937045Z",
     "iopub.status.busy": "2021-11-28T21:48:15.935835Z",
     "iopub.status.idle": "2021-11-28T21:48:16.016448Z",
     "shell.execute_reply": "2021-11-28T21:48:16.016955Z",
     "shell.execute_reply.started": "2021-11-28T21:28:57.480518Z"
    },
    "papermill": {
     "duration": 0.101068,
     "end_time": "2021-11-28T21:48:16.017260",
     "exception": false,
     "start_time": "2021-11-28T21:48:15.916192",
     "status": "completed"
    },
    "tags": []
   },
   "outputs": [
    {
     "name": "stdout",
     "output_type": "stream",
     "text": [
      "Setup Complete\n"
     ]
    }
   ],
   "source": [
    "from learntools.core import binder\n",
    "binder.bind(globals())\n",
    "from learntools.data_cleaning.ex4 import *\n",
    "print(\"Setup Complete\")"
   ]
  },
  {
   "cell_type": "markdown",
   "id": "7ba211d8",
   "metadata": {
    "papermill": {
     "duration": 0.014157,
     "end_time": "2021-11-28T21:48:16.046248",
     "exception": false,
     "start_time": "2021-11-28T21:48:16.032091",
     "status": "completed"
    },
    "tags": []
   },
   "source": [
    "# Get our environment set up\n",
    "\n",
    "The first thing we'll need to do is load in the libraries we'll be using."
   ]
  },
  {
   "cell_type": "code",
   "execution_count": 2,
   "id": "718636a1",
   "metadata": {
    "execution": {
     "iopub.execute_input": "2021-11-28T21:48:16.080438Z",
     "iopub.status.busy": "2021-11-28T21:48:16.079478Z",
     "iopub.status.idle": "2021-11-28T21:48:16.082270Z",
     "shell.execute_reply": "2021-11-28T21:48:16.081749Z",
     "shell.execute_reply.started": "2021-11-28T21:28:57.607632Z"
    },
    "papermill": {
     "duration": 0.021891,
     "end_time": "2021-11-28T21:48:16.082411",
     "exception": false,
     "start_time": "2021-11-28T21:48:16.060520",
     "status": "completed"
    },
    "tags": []
   },
   "outputs": [],
   "source": [
    "# modules we'll use\n",
    "import pandas as pd\n",
    "import numpy as np\n",
    "\n",
    "# helpful character encoding module\n",
    "import chardet\n",
    "\n",
    "# set seed for reproducibility\n",
    "np.random.seed(0)"
   ]
  },
  {
   "cell_type": "markdown",
   "id": "c1066152",
   "metadata": {
    "papermill": {
     "duration": 0.014008,
     "end_time": "2021-11-28T21:48:16.110991",
     "exception": false,
     "start_time": "2021-11-28T21:48:16.096983",
     "status": "completed"
    },
    "tags": []
   },
   "source": [
    "# 1) What are encodings?\n",
    "\n",
    "You're working with a dataset composed of bytes.  Run the code cell below to print a sample entry."
   ]
  },
  {
   "cell_type": "code",
   "execution_count": 3,
   "id": "fca1aa6b",
   "metadata": {
    "execution": {
     "iopub.execute_input": "2021-11-28T21:48:16.144290Z",
     "iopub.status.busy": "2021-11-28T21:48:16.143341Z",
     "iopub.status.idle": "2021-11-28T21:48:16.150382Z",
     "shell.execute_reply": "2021-11-28T21:48:16.149335Z",
     "shell.execute_reply.started": "2021-11-28T21:28:57.615043Z"
    },
    "papermill": {
     "duration": 0.024547,
     "end_time": "2021-11-28T21:48:16.150622",
     "exception": false,
     "start_time": "2021-11-28T21:48:16.126075",
     "status": "completed"
    },
    "tags": []
   },
   "outputs": [
    {
     "name": "stdout",
     "output_type": "stream",
     "text": [
      "b'\\xa7A\\xa6n'\n",
      "data type: <class 'bytes'>\n"
     ]
    }
   ],
   "source": [
    "sample_entry = b'\\xa7A\\xa6n'\n",
    "print(sample_entry)\n",
    "print('data type:', type(sample_entry))"
   ]
  },
  {
   "cell_type": "markdown",
   "id": "e4dcf518",
   "metadata": {
    "papermill": {
     "duration": 0.01442,
     "end_time": "2021-11-28T21:48:16.181182",
     "exception": false,
     "start_time": "2021-11-28T21:48:16.166762",
     "status": "completed"
    },
    "tags": []
   },
   "source": [
    "You notice that it doesn't use the standard UTF-8 encoding. \n",
    "\n",
    "Use the next code cell to create a variable `new_entry` that changes the encoding from `\"big5-tw\"` to `\"utf-8\"`.  `new_entry` should have the bytes datatype."
   ]
  },
  {
   "cell_type": "code",
   "execution_count": 4,
   "id": "89a3cd7b",
   "metadata": {
    "execution": {
     "iopub.execute_input": "2021-11-28T21:48:16.218933Z",
     "iopub.status.busy": "2021-11-28T21:48:16.218239Z",
     "iopub.status.idle": "2021-11-28T21:48:16.222539Z",
     "shell.execute_reply": "2021-11-28T21:48:16.223036Z",
     "shell.execute_reply.started": "2021-11-28T21:38:13.620686Z"
    },
    "papermill": {
     "duration": 0.027221,
     "end_time": "2021-11-28T21:48:16.223199",
     "exception": false,
     "start_time": "2021-11-28T21:48:16.195978",
     "status": "completed"
    },
    "tags": []
   },
   "outputs": [
    {
     "data": {
      "application/javascript": [
       "parent.postMessage({\"jupyterEvent\": \"custom.exercise_interaction\", \"data\": {\"outcomeType\": 1, \"valueTowardsCompletion\": 0.3333333333333333, \"interactionType\": 1, \"questionType\": 1, \"questionId\": \"1_EncodingsIntro\", \"learnToolsVersion\": \"0.3.4\", \"failureMessage\": \"\", \"exceptionClass\": \"\", \"trace\": \"\"}}, \"*\")"
      ],
      "text/plain": [
       "<IPython.core.display.Javascript object>"
      ]
     },
     "metadata": {},
     "output_type": "display_data"
    },
    {
     "data": {
      "text/markdown": [
       "<span style=\"color:#33cc33\">Correct</span>"
      ],
      "text/plain": [
       "Correct"
      ]
     },
     "metadata": {},
     "output_type": "display_data"
    }
   ],
   "source": [
    "before = sample_entry.decode(\"big5-tw\") \n",
    "\n",
    "new_entry = before.encode()\n",
    "# Check your answer\n",
    "q1.check()"
   ]
  },
  {
   "cell_type": "code",
   "execution_count": 5,
   "id": "0a7c022e",
   "metadata": {
    "execution": {
     "iopub.execute_input": "2021-11-28T21:48:16.259309Z",
     "iopub.status.busy": "2021-11-28T21:48:16.258637Z",
     "iopub.status.idle": "2021-11-28T21:48:16.261438Z",
     "shell.execute_reply": "2021-11-28T21:48:16.260829Z",
     "shell.execute_reply.started": "2021-11-28T21:38:24.279800Z"
    },
    "papermill": {
     "duration": 0.022414,
     "end_time": "2021-11-28T21:48:16.261577",
     "exception": false,
     "start_time": "2021-11-28T21:48:16.239163",
     "status": "completed"
    },
    "tags": []
   },
   "outputs": [],
   "source": [
    "# Lines below will give you a hint or solution code\n",
    "#q1.hint()\n",
    "#q1.solution()"
   ]
  },
  {
   "cell_type": "markdown",
   "id": "8a1dc14c",
   "metadata": {
    "papermill": {
     "duration": 0.015412,
     "end_time": "2021-11-28T21:48:16.292804",
     "exception": false,
     "start_time": "2021-11-28T21:48:16.277392",
     "status": "completed"
    },
    "tags": []
   },
   "source": [
    "# 2) Reading in files with encoding problems\n",
    "\n",
    "Use the code cell below to read in this file at path `\"../input/fatal-police-shootings-in-the-us/PoliceKillingsUS.csv\"`.  \n",
    "\n",
    "Figure out what the correct encoding should be and read in the file to a DataFrame `police_killings`."
   ]
  },
  {
   "cell_type": "markdown",
   "id": "df5b4aef",
   "metadata": {
    "papermill": {
     "duration": 0.01545,
     "end_time": "2021-11-28T21:48:16.323970",
     "exception": false,
     "start_time": "2021-11-28T21:48:16.308520",
     "status": "completed"
    },
    "tags": []
   },
   "source": []
  },
  {
   "cell_type": "code",
   "execution_count": 6,
   "id": "69135f68",
   "metadata": {
    "execution": {
     "iopub.execute_input": "2021-11-28T21:48:16.358313Z",
     "iopub.status.busy": "2021-11-28T21:48:16.357702Z",
     "iopub.status.idle": "2021-11-28T21:48:16.380624Z",
     "shell.execute_reply": "2021-11-28T21:48:16.381186Z",
     "shell.execute_reply.started": "2021-11-28T21:46:35.939958Z"
    },
    "papermill": {
     "duration": 0.041646,
     "end_time": "2021-11-28T21:48:16.381362",
     "exception": false,
     "start_time": "2021-11-28T21:48:16.339716",
     "status": "completed"
    },
    "tags": []
   },
   "outputs": [
    {
     "data": {
      "application/javascript": [
       "parent.postMessage({\"jupyterEvent\": \"custom.exercise_interaction\", \"data\": {\"outcomeType\": 1, \"valueTowardsCompletion\": 0.3333333333333333, \"interactionType\": 1, \"questionType\": 1, \"questionId\": \"2_ReadIn\", \"learnToolsVersion\": \"0.3.4\", \"failureMessage\": \"\", \"exceptionClass\": \"\", \"trace\": \"\"}}, \"*\")"
      ],
      "text/plain": [
       "<IPython.core.display.Javascript object>"
      ]
     },
     "metadata": {},
     "output_type": "display_data"
    },
    {
     "data": {
      "text/markdown": [
       "<span style=\"color:#33cc33\">Correct</span>"
      ],
      "text/plain": [
       "Correct"
      ]
     },
     "metadata": {},
     "output_type": "display_data"
    }
   ],
   "source": [
    "# TODO: Load in the DataFrame correctly.\n",
    "police_killings = pd.read_csv('../input/fatal-police-shootings-in-the-us/PoliceKillingsUS.csv', encoding='Windows-1252')\n",
    "\n",
    "# Check your answer\n",
    "q2.check()"
   ]
  },
  {
   "cell_type": "markdown",
   "id": "4acdcfe9",
   "metadata": {
    "papermill": {
     "duration": 0.017243,
     "end_time": "2021-11-28T21:48:16.416028",
     "exception": false,
     "start_time": "2021-11-28T21:48:16.398785",
     "status": "completed"
    },
    "tags": []
   },
   "source": [
    "Feel free to use any additional code cells for supplemental work.  To get credit for finishing this question, you'll need to run `q2.check()` and get a result of **Correct**."
   ]
  },
  {
   "cell_type": "code",
   "execution_count": 7,
   "id": "37f2f00c",
   "metadata": {
    "execution": {
     "iopub.execute_input": "2021-11-28T21:48:16.453028Z",
     "iopub.status.busy": "2021-11-28T21:48:16.452401Z",
     "iopub.status.idle": "2021-11-28T21:48:16.456180Z",
     "shell.execute_reply": "2021-11-28T21:48:16.456636Z",
     "shell.execute_reply.started": "2021-11-28T21:47:10.792055Z"
    },
    "papermill": {
     "duration": 0.023822,
     "end_time": "2021-11-28T21:48:16.456796",
     "exception": false,
     "start_time": "2021-11-28T21:48:16.432974",
     "status": "completed"
    },
    "tags": []
   },
   "outputs": [],
   "source": [
    "# (Optional) Use this code cell for any additional work."
   ]
  },
  {
   "cell_type": "code",
   "execution_count": 8,
   "id": "b2d7cc4a",
   "metadata": {
    "execution": {
     "iopub.execute_input": "2021-11-28T21:48:16.494057Z",
     "iopub.status.busy": "2021-11-28T21:48:16.492766Z",
     "iopub.status.idle": "2021-11-28T21:48:16.495778Z",
     "shell.execute_reply": "2021-11-28T21:48:16.496376Z",
     "shell.execute_reply.started": "2021-11-28T21:47:11.179529Z"
    },
    "papermill": {
     "duration": 0.022966,
     "end_time": "2021-11-28T21:48:16.496543",
     "exception": false,
     "start_time": "2021-11-28T21:48:16.473577",
     "status": "completed"
    },
    "tags": []
   },
   "outputs": [],
   "source": [
    "# Lines below will give you a hint or solution code\n",
    "#q2.hint()\n",
    "#q2.solution()"
   ]
  },
  {
   "cell_type": "markdown",
   "id": "17802e4c",
   "metadata": {
    "papermill": {
     "duration": 0.016221,
     "end_time": "2021-11-28T21:48:16.529572",
     "exception": false,
     "start_time": "2021-11-28T21:48:16.513351",
     "status": "completed"
    },
    "tags": []
   },
   "source": [
    "# 3) Saving your files with UTF-8 encoding\n",
    "\n",
    "Save a version of the police killings dataset to CSV with UTF-8 encoding.  Your answer will be marked correct after saving this file.  \n",
    "\n",
    "Note: When using the `to_csv()` method, supply only the name of the file (e.g., `\"my_file.csv\"`).  This saves the file at the filepath `\"/kaggle/working/my_file.csv\"`."
   ]
  },
  {
   "cell_type": "code",
   "execution_count": 9,
   "id": "671ec068",
   "metadata": {
    "execution": {
     "iopub.execute_input": "2021-11-28T21:48:16.566187Z",
     "iopub.status.busy": "2021-11-28T21:48:16.565558Z",
     "iopub.status.idle": "2021-11-28T21:48:16.609219Z",
     "shell.execute_reply": "2021-11-28T21:48:16.608671Z",
     "shell.execute_reply.started": "2021-11-28T21:47:48.571847Z"
    },
    "papermill": {
     "duration": 0.062986,
     "end_time": "2021-11-28T21:48:16.609353",
     "exception": false,
     "start_time": "2021-11-28T21:48:16.546367",
     "status": "completed"
    },
    "tags": []
   },
   "outputs": [
    {
     "data": {
      "application/javascript": [
       "parent.postMessage({\"jupyterEvent\": \"custom.exercise_interaction\", \"data\": {\"outcomeType\": 1, \"valueTowardsCompletion\": 0.3333333333333333, \"interactionType\": 1, \"questionType\": 2, \"questionId\": \"3_SaveCSV\", \"learnToolsVersion\": \"0.3.4\", \"failureMessage\": \"\", \"exceptionClass\": \"\", \"trace\": \"\"}}, \"*\")"
      ],
      "text/plain": [
       "<IPython.core.display.Javascript object>"
      ]
     },
     "metadata": {},
     "output_type": "display_data"
    },
    {
     "data": {
      "text/markdown": [
       "<span style=\"color:#33cc33\">Correct</span>"
      ],
      "text/plain": [
       "Correct"
      ]
     },
     "metadata": {},
     "output_type": "display_data"
    }
   ],
   "source": [
    "# TODO: Save the police killings dataset to CSV\n",
    "police_killings.to_csv(\"my_file.csv\")\n",
    "\n",
    "# Check your answer\n",
    "q3.check()"
   ]
  },
  {
   "cell_type": "code",
   "execution_count": 10,
   "id": "fc35ef87",
   "metadata": {
    "execution": {
     "iopub.execute_input": "2021-11-28T21:48:16.647867Z",
     "iopub.status.busy": "2021-11-28T21:48:16.647236Z",
     "iopub.status.idle": "2021-11-28T21:48:16.649930Z",
     "shell.execute_reply": "2021-11-28T21:48:16.650425Z"
    },
    "papermill": {
     "duration": 0.023531,
     "end_time": "2021-11-28T21:48:16.650596",
     "exception": false,
     "start_time": "2021-11-28T21:48:16.627065",
     "status": "completed"
    },
    "tags": []
   },
   "outputs": [],
   "source": [
    "# Lines below will give you a hint or solution code\n",
    "#q3.hint()\n",
    "#q3.solution()"
   ]
  },
  {
   "cell_type": "markdown",
   "id": "62329180",
   "metadata": {
    "papermill": {
     "duration": 0.017451,
     "end_time": "2021-11-28T21:48:16.685778",
     "exception": false,
     "start_time": "2021-11-28T21:48:16.668327",
     "status": "completed"
    },
    "tags": []
   },
   "source": [
    "# (Optional) More practice\n",
    "\n",
    "Check out [this dataset of files in different character encodings](https://www.kaggle.com/rtatman/character-encoding-examples). Can you read in all the files with their original encodings and them save them out as UTF-8 files?\n",
    "\n",
    "If you have a file that's in UTF-8 but has just a couple of weird-looking characters in it, you can try out the [ftfy module](https://ftfy.readthedocs.io/en/latest/#) and see if it helps. \n",
    "\n",
    "# Keep going\n",
    "\n",
    "In the final lesson, learn how to [**clean up inconsistent text entries**](https://www.kaggle.com/alexisbcook/inconsistent-data-entry) in your dataset."
   ]
  },
  {
   "cell_type": "markdown",
   "id": "4ba8b706",
   "metadata": {
    "papermill": {
     "duration": 0.017598,
     "end_time": "2021-11-28T21:48:16.721239",
     "exception": false,
     "start_time": "2021-11-28T21:48:16.703641",
     "status": "completed"
    },
    "tags": []
   },
   "source": [
    "---\n",
    "\n",
    "\n",
    "\n",
    "\n",
    "*Have questions or comments? Visit the [course discussion forum](https://www.kaggle.com/learn/data-cleaning/discussion) to chat with other learners.*"
   ]
  }
 ],
 "metadata": {
  "kernelspec": {
   "display_name": "Python 3",
   "language": "python",
   "name": "python3"
  },
  "language_info": {
   "codemirror_mode": {
    "name": "ipython",
    "version": 3
   },
   "file_extension": ".py",
   "mimetype": "text/x-python",
   "name": "python",
   "nbconvert_exporter": "python",
   "pygments_lexer": "ipython3",
   "version": "3.7.10"
  },
  "papermill": {
   "default_parameters": {},
   "duration": 10.145282,
   "end_time": "2021-11-28T21:48:17.348890",
   "environment_variables": {},
   "exception": null,
   "input_path": "__notebook__.ipynb",
   "output_path": "__notebook__.ipynb",
   "parameters": {},
   "start_time": "2021-11-28T21:48:07.203608",
   "version": "2.3.3"
  }
 },
 "nbformat": 4,
 "nbformat_minor": 5
}
